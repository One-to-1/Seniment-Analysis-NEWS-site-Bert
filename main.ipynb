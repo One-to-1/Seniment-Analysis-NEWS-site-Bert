{
 "cells": [
  {
   "cell_type": "code",
   "execution_count": 1,
   "metadata": {},
   "outputs": [],
   "source": [
    "import requests\n",
    "from bs4 import BeautifulSoup\n"
   ]
  },
  {
   "cell_type": "code",
   "execution_count": 2,
   "metadata": {},
   "outputs": [],
   "source": [
    "def get_article_from_url(url):\n",
    "    response = requests.get(url)\n",
    "    soup = BeautifulSoup(response.text, 'html.parser')\n",
    "\n",
    "    # Assuming that the article text is within <p> tags\n",
    "    # This might change depending on the structure of the website\n",
    "    paragraphs = soup.find_all('p')\n",
    "\n",
    "    article = ' '.join([p.get_text() for p in paragraphs])\n",
    "    return article\n",
    "\n",
    "# Use the function\n",
    "url = 'https://the-race.com/formula-1/ferrari-red-bull-long-run-bahrain-f1-testing-mark-hughes/'\n",
    "article = get_article_from_url(url)"
   ]
  },
  {
   "cell_type": "code",
   "execution_count": 3,
   "metadata": {},
   "outputs": [],
   "source": [
    "# Use the function\n",
    "url = 'https://the-race.com/formula-1/ferrari-red-bull-long-run-bahrain-f1-testing-mark-hughes/'\n",
    "article = get_article_from_url(url)"
   ]
  },
  {
   "cell_type": "code",
   "execution_count": 4,
   "metadata": {},
   "outputs": [
    {
     "name": "stdout",
     "output_type": "stream",
     "text": [
      "Day two of Formula 1 2024 pre-season testing in Bahrain gave us a slightly more detailed data set to work from than the opening day - and although it was Carlos Sainz’s Ferrari at the top of the headline times, what do we find when we delve beneath the surface? This was a day on which reigning champion Max Verstappen did not get to drive the Red Bull, his scheduled afternoon appearance was cancelled to give Sergio Perez more cockpit time after his morning running was curtailed by the red flag and the loss of over an hour of running. A pace comparison, of course, requires some assumptions - in our case, there's the pre-supposition that Red Bull and Ferrari are using the same base weight for their low-fuel laps. This, admittedly, may not be the case.  But recent history suggests that the two teams actually do run quite a similar fuel load – and we derive this from any variation in how they have qualified in the opening races compared to their calculated pre-season testing performance. Last year in Bahrain qualifying the gap between the fastest car of those two teams was quite similar to how it had looked in testing.  The patterns over the last couple of seasons suggest that Mercedes and McLaren run slightly heavier with their base weights in testing and Aston Martin slightly lighter. That may not necessarily be the case this year, of course, but it’s the best we have to go on.  There was also considerable variation in programmes - but Red Bull and Ferrari both attempted some form of race simulation run, giving us further clues.   But let’s look first at single-lap pace. Everything we’ve seen so far suggests the new Ferrari is very quick over a lap, just like last year’s car (which scored six poles amid a season of total Red Bull domination).  Carlos Sainz reports that although this car is still something of a lively handful around this track when pushed, it feels less sensitive to the strong winds which are such a feature here.  A watching Alex Albon commented that the top teams “seem to be able to switch the wind off” compared to how his Williams feels. This is to do with the sensitivity of their downforce in yaw, something which Ferrari technical director Enrique Cardile confirmed was a major target for improvement in the conception of the SF-24. When analysing the single-lap pace we also need to normalise for the tyre compound differences today, because Sainz used the soft C4 tyre (not a tyre which will be used in the race weekend) to set that session-heading time whereas Red Bull, Mercedes and McLaren all stayed with the C3 (which will be the allocated soft for the race).  How much quicker was the C4 over the C3? Sainz found around 0.7s when he switched, with the runs separated only by around 15 minutes. Later in the day RB’s Daniel Ricciardo made the same switch, with only 10 minutes between his last C3 run and his first C4 – and he found around 0.6s.  If we take the 0.6s tyre boost as a guide, we would find that Sainz’s best lap normalised to give a tyre equivalence to the second-fastest Sergio Perez would still have the Ferrari fastest, albeit only by around 0.1s.  But that is over Perez, not Verstappen. Last year Verstappen qualified around 0.15s faster than Perez here, but his seasonal qualifying advantage was around 0.3s. So if we put a theoretical Verstappen pace advantage over Perez into the equation, it puts the Red Bull narrowly on top by between half a tenth and a quarter of a second.  Equally, though, we might make an adjustment for the Ferrari - as last year Charles Leclerc averaged 0.18s faster than Sainz.  Either way, it looks very close in one-lap pace – but only on the assumption that Red Bull was not disguising its true pace by running heavier or with a less aggressive engine mode.  Lewis Hamilton made good progress with the Mercedes in the afternoon, working away at what was initially a difficult balance to a much better-behaved one. But his best low-fuel lap was around 0.5s adrift of Sainz’s, even allowing for the 0.6s tyre offset. Lando Norris in the McLaren was a further 0.2s off the Mercedes, but with the proviso that both these teams have historically run testing slightly heavier than Red Bull and Ferrari.  Daniel Ricciardo’s RB was again best of the rest after the big teams and although his fifth-fastest time was aided by that C4 tyre, doing the 0.6s offset still puts him on around the same time as Lance Stroll’s Aston Martin. But even if we make a Fernando Alonso allowance for the Aston’s time, that’s still around 0.5s off McLaren.  Alpine is making progress with a car very different from last year’s in its traits, but run-for-run in its current state seemed to be within around 0.1s of the RB and Aston. With Sauber, Williams and Haas following on, in that order.  So much for one-lap pace. The initial long runs paint a slightly different picture.  Both Red Bull and Ferrari made race simulation runs, at much the same time and running the same combination of C3, C2 and C1 respectively for the three stints.  In this comparison the Ferrari looks suspiciously good, with a respective pace suggesting Carlos Sainz would have beaten Sergio Perez by... a full minute over the 57-lap distance.  Stint 1 Sainz (C3) - avg. 1m28.21s, 15 lapsPerez (C3) - avg. 1m28.65s, 13 laps Stint 2 Sainz (C2) - avg. 1m27.30s, 17 lapsPerez (C2) - avg. 1m27.46s, 18 laps Stint 3 Sainz (C1) - avg. 1m25.38s, 17 lapsPerez (C1) - avg. 1m27.13s, 21 laps In this comparison Red Bull ran a total of 52 laps, Ferrari only 49.  If we take an average laptime for each of their race sims and multiply it by the race’s 57 laps, Sainz wins this ‘race’ by 60s, at an average of over 1s per lap faster.  Even if we make a further adjustment for any extra weight required to do the Red Bull’s extra three laps, it still doesn’t come out at anything like one second per lap. Nor does it tally with the very small advantage the Ferrari had in one-lap pace.  We cannot believe that this is an accurate representation of the Red Bull’s true pace. But that is what the day two numbers say.  Let’s wait for day three to see if this apparent evidence is confirmed or refuted.  \n",
      "  Red Bull’s 2024 Formula 1 car has ‘wowed’ one team principal and left other rivals fearing the worst ahead of the new season during testing in Bahrain\n",
      " \n",
      "  Gary Anderson's watched the new crop of Formula 1 cars trackside in Bahrain. Here's his verdict on all 10 challengers...\n",
      " \n",
      "  Carlos Sainz put Ferrari on top on the second day of 2024 Formula 1 pre-season testing in Bahrain with a new fastest time of the week\n",
      " \n",
      "  The Red Bull and RB team relationship is under increasingly heavy attack. But do the teams' ties really show on track? Is the 2024 RB a reliveried 2023 Red Bull? Here's Gary Anderson's view\n",
      " \n",
      "  McLaren's continued lobbying against F1 multi-team ownership has been met with Red Bull defiance - but this is a debate where the goalposts have been moved carelessly\n",
      " \n",
      "  Christian Horner’s presence at Formula 1 pre-season testing, while an investigation takes place into allegations against him, means an awkward and tense situation hangs over his Red Bull team this week - something briefly showcased on Thursday...\n",
      " \n",
      "                    The Race started in February 2020 as a digital-only\n",
      "                    motorsport channel. Our aim is to create the best motorsport\n",
      "                    coverage that appeals to die-hard fans as well as those who\n",
      "                    are new to the sport.\n",
      "                  \n"
     ]
    }
   ],
   "source": [
    "print(article)"
   ]
  },
  {
   "cell_type": "code",
   "execution_count": null,
   "metadata": {},
   "outputs": [],
   "source": []
  }
 ],
 "metadata": {
  "kernelspec": {
   "display_name": "base",
   "language": "python",
   "name": "python3"
  },
  "language_info": {
   "codemirror_mode": {
    "name": "ipython",
    "version": 3
   },
   "file_extension": ".py",
   "mimetype": "text/x-python",
   "name": "python",
   "nbconvert_exporter": "python",
   "pygments_lexer": "ipython3",
   "version": "3.10.9"
  }
 },
 "nbformat": 4,
 "nbformat_minor": 2
}
