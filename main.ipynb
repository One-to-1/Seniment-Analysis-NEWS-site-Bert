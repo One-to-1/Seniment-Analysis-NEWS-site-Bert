{
 "cells": [
  {
   "cell_type": "markdown",
   "metadata": {},
   "source": [
    "# ***Sentiment Analysis***"
   ]
  },
  {
   "cell_type": "code",
   "execution_count": 1,
   "metadata": {},
   "outputs": [],
   "source": [
    "import requests\n",
    "from bs4 import BeautifulSoup"
   ]
  },
  {
   "cell_type": "code",
   "execution_count": 2,
   "metadata": {},
   "outputs": [],
   "source": [
    "def get_article_from_url(url):\n",
    "    response = requests.get(url)\n",
    "    soup = BeautifulSoup(response.text, 'html.parser')\n",
    "\n",
    "    # Find the specific div\n",
    "    content_div = soup.find('div', id='therace-post-content')\n",
    "\n",
    "    # Extract all <p> tags within this div\n",
    "    paragraphs = content_div.find_all('p')\n",
    "\n",
    "    article = ' '.join([p.get_text() for p in paragraphs])\n",
    "    return article"
   ]
  },
  {
   "cell_type": "code",
   "execution_count": 3,
   "metadata": {},
   "outputs": [],
   "source": [
    "# Use the function\n",
    "url = 'https://the-race.com/formula-1/ferrari-red-bull-long-run-bahrain-f1-testing-mark-hughes/'\n",
    "article = get_article_from_url(url)"
   ]
  },
  {
   "cell_type": "code",
   "execution_count": 4,
   "metadata": {},
   "outputs": [
    {
     "name": "stdout",
     "output_type": "stream",
     "text": [
      "Day two of Formula 1 2024 pre-season testing in Bahrain gave us a slightly more detailed data set to work from than the opening day - and although it was Carlos Sainz’s Ferrari at the top of the headline times, what do we find when we delve beneath the surface? This was a day on which reigning champion Max Verstappen did not get to drive the Red Bull, his scheduled afternoon appearance was cancelled to give Sergio Perez more cockpit time after his morning running was curtailed by the red flag and the loss of over an hour of running. A pace comparison, of course, requires some assumptions - in our case, there's the pre-supposition that Red Bull and Ferrari are using the same base weight for their low-fuel laps. This, admittedly, may not be the case.  But recent history suggests that the two teams actually do run quite a similar fuel load – and we derive this from any variation in how they have qualified in the opening races compared to their calculated pre-season testing performance. Last year in Bahrain qualifying the gap between the fastest car of those two teams was quite similar to how it had looked in testing.  The patterns over the last couple of seasons suggest that Mercedes and McLaren run slightly heavier with their base weights in testing and Aston Martin slightly lighter. That may not necessarily be the case this year, of course, but it’s the best we have to go on.  There was also considerable variation in programmes - but Red Bull and Ferrari both attempted some form of race simulation run, giving us further clues.   But let’s look first at single-lap pace. Everything we’ve seen so far suggests the new Ferrari is very quick over a lap, just like last year’s car (which scored six poles amid a season of total Red Bull domination).  Carlos Sainz reports that although this car is still something of a lively handful around this track when pushed, it feels less sensitive to the strong winds which are such a feature here.  A watching Alex Albon commented that the top teams “seem to be able to switch the wind off” compared to how his Williams feels. This is to do with the sensitivity of their downforce in yaw, something which Ferrari technical director Enrique Cardile confirmed was a major target for improvement in the conception of the SF-24. When analysing the single-lap pace we also need to normalise for the tyre compound differences today, because Sainz used the soft C4 tyre (not a tyre which will be used in the race weekend) to set that session-heading time whereas Red Bull, Mercedes and McLaren all stayed with the C3 (which will be the allocated soft for the race).  How much quicker was the C4 over the C3? Sainz found around 0.7s when he switched, with the runs separated only by around 15 minutes. Later in the day RB’s Daniel Ricciardo made the same switch, with only 10 minutes between his last C3 run and his first C4 – and he found around 0.6s.  If we take the 0.6s tyre boost as a guide, we would find that Sainz’s best lap normalised to give a tyre equivalence to the second-fastest Sergio Perez would still have the Ferrari fastest, albeit only by around 0.1s.  But that is over Perez, not Verstappen. Last year Verstappen qualified around 0.15s faster than Perez here, but his seasonal qualifying advantage was around 0.3s. So if we put a theoretical Verstappen pace advantage over Perez into the equation, it puts the Red Bull narrowly on top by between half a tenth and a quarter of a second.  Equally, though, we might make an adjustment for the Ferrari - as last year Charles Leclerc averaged 0.18s faster than Sainz.  Either way, it looks very close in one-lap pace – but only on the assumption that Red Bull was not disguising its true pace by running heavier or with a less aggressive engine mode.  Lewis Hamilton made good progress with the Mercedes in the afternoon, working away at what was initially a difficult balance to a much better-behaved one. But his best low-fuel lap was around 0.5s adrift of Sainz’s, even allowing for the 0.6s tyre offset. Lando Norris in the McLaren was a further 0.2s off the Mercedes, but with the proviso that both these teams have historically run testing slightly heavier than Red Bull and Ferrari.  Daniel Ricciardo’s RB was again best of the rest after the big teams and although his fifth-fastest time was aided by that C4 tyre, doing the 0.6s offset still puts him on around the same time as Lance Stroll’s Aston Martin. But even if we make a Fernando Alonso allowance for the Aston’s time, that’s still around 0.5s off McLaren.  Alpine is making progress with a car very different from last year’s in its traits, but run-for-run in its current state seemed to be within around 0.1s of the RB and Aston. With Sauber, Williams and Haas following on, in that order.  So much for one-lap pace. The initial long runs paint a slightly different picture.  Both Red Bull and Ferrari made race simulation runs, at much the same time and running the same combination of C3, C2 and C1 respectively for the three stints.  In this comparison the Ferrari looks suspiciously good, with a respective pace suggesting Carlos Sainz would have beaten Sergio Perez by... a full minute over the 57-lap distance.  Stint 1 Sainz (C3) - avg. 1m38.21s, 15 lapsPerez (C3) - avg. 1m38.65s, 13 laps Stint 2 Sainz (C2) - avg. 1m37.30s, 17 lapsPerez (C2) - avg. 1m37.46s, 18 laps Stint 3 Sainz (C1) - avg. 1m35.38s, 17 lapsPerez (C1) - avg. 1m37.13s, 21 laps In this comparison Red Bull ran a total of 52 laps, Ferrari only 49.  If we take an average laptime for each of their race sims and multiply it by the race’s 57 laps, Sainz wins this ‘race’ by 60s, at an average of over 1s per lap faster.  Even if we make a further adjustment for any extra weight required to do the Red Bull’s extra three laps, it still doesn’t come out at anything like one second per lap. Nor does it tally with the very small advantage the Ferrari had in one-lap pace.  We cannot believe that this is an accurate representation of the Red Bull’s true pace. But that is what the day two numbers say.  Let’s wait for day three to see if this apparent evidence is confirmed or refuted. \n"
     ]
    }
   ],
   "source": [
    "print(article)"
   ]
  },
  {
   "cell_type": "code",
   "execution_count": 5,
   "metadata": {},
   "outputs": [],
   "source": [
    "import string\n",
    "from collections import Counter\n",
    "from nltk.sentiment.vader import SentimentIntensityAnalyzer\n",
    "import matplotlib.pyplot as plt\n",
    "text = article"
   ]
  },
  {
   "cell_type": "code",
   "execution_count": 6,
   "metadata": {},
   "outputs": [],
   "source": [
    "lower_case = text.lower()"
   ]
  },
  {
   "cell_type": "code",
   "execution_count": 7,
   "metadata": {},
   "outputs": [],
   "source": [
    "clean_text = lower_case.translate(str.maketrans('','',string.punctuation))"
   ]
  },
  {
   "cell_type": "code",
   "execution_count": 8,
   "metadata": {},
   "outputs": [],
   "source": [
    "tokenized_words = clean_text.split()"
   ]
  },
  {
   "cell_type": "code",
   "execution_count": 9,
   "metadata": {},
   "outputs": [],
   "source": [
    "stop_words = [\"i\", \"me\", \"my\", \"myself\", \"we\", \"our\", \"ours\", \"ourselves\", \"you\", \"your\", \"yours\", \"yourself\",\n",
    "              \"yourselves\", \"he\", \"him\", \"his\", \"himself\", \"she\", \"her\", \"hers\", \"herself\", \"it\", \"its\", \"itself\",\n",
    "              \"they\", \"them\", \"their\", \"theirs\", \"themselves\", \"what\", \"which\", \"who\", \"whom\", \"this\", \"that\", \"these\",\n",
    "              \"those\", \"am\", \"is\", \"are\", \"was\", \"were\", \"be\", \"been\", \"being\", \"have\", \"has\", \"had\", \"having\", \"do\",\n",
    "              \"does\", \"did\", \"doing\", \"a\", \"an\", \"the\", \"and\", \"but\", \"if\", \"or\", \"because\", \"as\", \"until\", \"while\",\n",
    "              \"of\", \"at\", \"by\", \"for\", \"with\", \"about\", \"against\", \"between\", \"into\", \"through\", \"during\", \"before\",\n",
    "              \"after\", \"above\", \"below\", \"to\", \"from\", \"up\", \"down\", \"in\", \"out\", \"on\", \"off\", \"over\", \"under\", \"again\",\n",
    "              \"further\", \"then\", \"once\", \"here\", \"there\", \"when\", \"where\", \"why\", \"how\", \"all\", \"any\", \"both\", \"each\",\n",
    "              \"few\", \"more\", \"most\", \"other\", \"some\", \"such\", \"no\", \"nor\", \"not\", \"only\", \"own\", \"same\", \"so\", \"than\",\n",
    "              \"too\", \"very\", \"s\", \"t\", \"can\", \"will\", \"just\", \"don\", \"should\", \"now\"]\n",
    "final_words = []\n",
    "for word in tokenized_words :\n",
    "    if word not in stop_words :\n",
    "        final_words.append(word)"
   ]
  },
  {
   "cell_type": "markdown",
   "metadata": {},
   "source": [
    "using nltk library to perform sentiment analysis on the given dataset."
   ]
  },
  {
   "cell_type": "code",
   "execution_count": 10,
   "metadata": {},
   "outputs": [
    {
     "name": "stderr",
     "output_type": "stream",
     "text": [
      "[nltk_data] Downloading package vader_lexicon to C:\\Users\\Yatharth\n",
      "[nltk_data]     Jain\\AppData\\Roaming\\nltk_data...\n",
      "[nltk_data]   Package vader_lexicon is already up-to-date!\n"
     ]
    }
   ],
   "source": [
    "import nltk\n",
    "nltk.download('vader_lexicon')\n",
    "from nltk.sentiment.vader import SentimentIntensityAnalyzer"
   ]
  },
  {
   "cell_type": "code",
   "execution_count": 11,
   "metadata": {},
   "outputs": [],
   "source": [
    "def sentiment_analyze(senti_text) :\n",
    "    score = SentimentIntensityAnalyzer().polarity_scores(senti_text)\n",
    "    neg = score['neg']\n",
    "    pos = score['pos']\n",
    "    print(score)\n",
    "    if pos > neg :\n",
    "        print(\"Positive Sentiment\")\n",
    "    elif pos < neg :\n",
    "        print(\"Negative Sentiment\")\n",
    "    else :\n",
    "        print(\"Neutral Sentiment\")"
   ]
  },
  {
   "cell_type": "code",
   "execution_count": 12,
   "metadata": {},
   "outputs": [
    {
     "name": "stdout",
     "output_type": "stream",
     "text": [
      "{'neg': 0.02, 'neu': 0.897, 'pos': 0.083, 'compound': 0.9975}\n",
      "Positive Sentiment\n"
     ]
    }
   ],
   "source": [
    "sentiment_analyze(clean_text)"
   ]
  },
  {
   "cell_type": "code",
   "execution_count": 13,
   "metadata": {},
   "outputs": [
    {
     "name": "stdout",
     "output_type": "stream",
     "text": [
      "Defaulting to user installation because normal site-packages is not writeable\n",
      "Requirement already satisfied: accelerate in c:\\users\\yatharth jain\\appdata\\roaming\\python\\python310\\site-packages (0.27.2)\n",
      "Requirement already satisfied: packaging>=20.0 in c:\\programdata\\anaconda3\\lib\\site-packages (from accelerate) (22.0)\n",
      "Requirement already satisfied: pyyaml in c:\\programdata\\anaconda3\\lib\\site-packages (from accelerate) (6.0)\n",
      "Requirement already satisfied: safetensors>=0.3.1 in c:\\users\\yatharth jain\\appdata\\roaming\\python\\python310\\site-packages (from accelerate) (0.4.2)\n",
      "Requirement already satisfied: psutil in c:\\programdata\\anaconda3\\lib\\site-packages (from accelerate) (5.9.0)\n",
      "Requirement already satisfied: numpy>=1.17 in c:\\programdata\\anaconda3\\lib\\site-packages (from accelerate) (1.23.5)\n",
      "Requirement already satisfied: torch>=1.10.0 in c:\\programdata\\anaconda3\\lib\\site-packages (from accelerate) (1.12.1)\n",
      "Requirement already satisfied: huggingface-hub in c:\\users\\yatharth jain\\appdata\\roaming\\python\\python310\\site-packages (from accelerate) (0.20.3)\n",
      "Requirement already satisfied: typing_extensions in c:\\programdata\\anaconda3\\lib\\site-packages (from torch>=1.10.0->accelerate) (4.4.0)\n",
      "Requirement already satisfied: tqdm>=4.42.1 in c:\\programdata\\anaconda3\\lib\\site-packages (from huggingface-hub->accelerate) (4.64.1)\n",
      "Requirement already satisfied: filelock in c:\\programdata\\anaconda3\\lib\\site-packages (from huggingface-hub->accelerate) (3.9.0)\n",
      "Requirement already satisfied: requests in c:\\programdata\\anaconda3\\lib\\site-packages (from huggingface-hub->accelerate) (2.28.1)\n",
      "Requirement already satisfied: fsspec>=2023.5.0 in c:\\users\\yatharth jain\\appdata\\roaming\\python\\python310\\site-packages (from huggingface-hub->accelerate) (2024.2.0)\n",
      "Requirement already satisfied: colorama in c:\\programdata\\anaconda3\\lib\\site-packages (from tqdm>=4.42.1->huggingface-hub->accelerate) (0.4.6)\n",
      "Requirement already satisfied: idna<4,>=2.5 in c:\\programdata\\anaconda3\\lib\\site-packages (from requests->huggingface-hub->accelerate) (3.4)\n",
      "Requirement already satisfied: certifi>=2017.4.17 in c:\\programdata\\anaconda3\\lib\\site-packages (from requests->huggingface-hub->accelerate) (2022.12.7)\n",
      "Requirement already satisfied: urllib3<1.27,>=1.21.1 in c:\\programdata\\anaconda3\\lib\\site-packages (from requests->huggingface-hub->accelerate) (1.26.14)\n",
      "Requirement already satisfied: charset-normalizer<3,>=2 in c:\\programdata\\anaconda3\\lib\\site-packages (from requests->huggingface-hub->accelerate) (2.0.4)\n",
      "Defaulting to user installation because normal site-packages is not writeable\n",
      "Requirement already satisfied: transformers in c:\\users\\yatharth jain\\appdata\\roaming\\python\\python310\\site-packages (4.38.1)\n",
      "Requirement already satisfied: regex!=2019.12.17 in c:\\programdata\\anaconda3\\lib\\site-packages (from transformers) (2022.7.9)\n",
      "Requirement already satisfied: safetensors>=0.4.1 in c:\\users\\yatharth jain\\appdata\\roaming\\python\\python310\\site-packages (from transformers) (0.4.2)\n",
      "Requirement already satisfied: filelock in c:\\programdata\\anaconda3\\lib\\site-packages (from transformers) (3.9.0)\n",
      "Requirement already satisfied: requests in c:\\programdata\\anaconda3\\lib\\site-packages (from transformers) (2.28.1)\n",
      "Requirement already satisfied: tqdm>=4.27 in c:\\programdata\\anaconda3\\lib\\site-packages (from transformers) (4.64.1)\n",
      "Requirement already satisfied: numpy>=1.17 in c:\\programdata\\anaconda3\\lib\\site-packages (from transformers) (1.23.5)\n",
      "Requirement already satisfied: pyyaml>=5.1 in c:\\programdata\\anaconda3\\lib\\site-packages (from transformers) (6.0)\n",
      "Requirement already satisfied: tokenizers<0.19,>=0.14 in c:\\users\\yatharth jain\\appdata\\roaming\\python\\python310\\site-packages (from transformers) (0.15.2)\n",
      "Requirement already satisfied: huggingface-hub<1.0,>=0.19.3 in c:\\users\\yatharth jain\\appdata\\roaming\\python\\python310\\site-packages (from transformers) (0.20.3)\n",
      "Requirement already satisfied: packaging>=20.0 in c:\\programdata\\anaconda3\\lib\\site-packages (from transformers) (22.0)\n",
      "Requirement already satisfied: typing-extensions>=3.7.4.3 in c:\\programdata\\anaconda3\\lib\\site-packages (from huggingface-hub<1.0,>=0.19.3->transformers) (4.4.0)\n",
      "Requirement already satisfied: fsspec>=2023.5.0 in c:\\users\\yatharth jain\\appdata\\roaming\\python\\python310\\site-packages (from huggingface-hub<1.0,>=0.19.3->transformers) (2024.2.0)\n",
      "Requirement already satisfied: colorama in c:\\programdata\\anaconda3\\lib\\site-packages (from tqdm>=4.27->transformers) (0.4.6)\n",
      "Requirement already satisfied: urllib3<1.27,>=1.21.1 in c:\\programdata\\anaconda3\\lib\\site-packages (from requests->transformers) (1.26.14)\n",
      "Requirement already satisfied: idna<4,>=2.5 in c:\\programdata\\anaconda3\\lib\\site-packages (from requests->transformers) (3.4)\n",
      "Requirement already satisfied: charset-normalizer<3,>=2 in c:\\programdata\\anaconda3\\lib\\site-packages (from requests->transformers) (2.0.4)\n",
      "Requirement already satisfied: certifi>=2017.4.17 in c:\\programdata\\anaconda3\\lib\\site-packages (from requests->transformers) (2022.12.7)\n"
     ]
    }
   ],
   "source": [
    "! pip install -U accelerate\n",
    "! pip install -U transformers"
   ]
  },
  {
   "cell_type": "code",
   "execution_count": 14,
   "metadata": {},
   "outputs": [],
   "source": [
    "page= requests.get('https://timesofindia.indiatimes.com/business/budget/interim-budget-2024-a-trailer-of-the-visionary-roadmap-for-viksit-bharat-key-tax-proposals-to-know/articleshow/107449222.cms').text"
   ]
  },
  {
   "cell_type": "code",
   "execution_count": 15,
   "metadata": {},
   "outputs": [],
   "source": [
    "content = BeautifulSoup(page, 'html.parser')"
   ]
  },
  {
   "cell_type": "code",
   "execution_count": 16,
   "metadata": {},
   "outputs": [],
   "source": [
    "from transformers import AutoTokenizer, AutoModelForSequenceClassification\n",
    "\n",
    "tokenizer = AutoTokenizer.from_pretrained('ProsusAI/finbert')\n",
    "model= AutoModelForSequenceClassification.from_pretrained('ProsusAI/finbert')"
   ]
  },
  {
   "cell_type": "code",
   "execution_count": 17,
   "metadata": {},
   "outputs": [],
   "source": [
    "from transformers import pipeline\n",
    "classifier = pipeline(\"sentiment-analysis\", model=model, tokenizer=tokenizer)"
   ]
  },
  {
   "cell_type": "code",
   "execution_count": 18,
   "metadata": {},
   "outputs": [
    {
     "name": "stdout",
     "output_type": "stream",
     "text": [
      "News\n",
      "Business News\n",
      "Budget News\n"
     ]
    }
   ],
   "source": [
    "l=[]\n",
    "for line in content.find_all('li'):\n",
    "  try:\n",
    "    l.append(str(line.contents[0].contents[0].contents[0]))\n",
    "    print(l[-1])\n",
    "  except:\n",
    "    pass"
   ]
  },
  {
   "cell_type": "code",
   "execution_count": 19,
   "metadata": {},
   "outputs": [
    {
     "name": "stdout",
     "output_type": "stream",
     "text": [
      "News\n",
      "Business News\n",
      "Budget News\n"
     ]
    }
   ],
   "source": [
    "import re\n",
    "text= []\n",
    "for item in l:\n",
    "  text.append(re.sub(r'<.*?>',\"\",item))\n",
    "  print(text[-1])"
   ]
  },
  {
   "cell_type": "code",
   "execution_count": 20,
   "metadata": {},
   "outputs": [
    {
     "name": "stdout",
     "output_type": "stream",
     "text": [
      "{'label': 'neutral', 'score': 0.8944812417030334}\n",
      "{'label': 'neutral', 'score': 0.901756227016449}\n",
      "{'label': 'neutral', 'score': 0.9311054944992065}\n"
     ]
    }
   ],
   "source": [
    "results = classifier(text)\n",
    "avg= 0.0\n",
    "pos= 0\n",
    "for result in results:\n",
    "  avg+= result['score']\n",
    "  print(result)\n",
    "avg/=len(results)"
   ]
  },
  {
   "cell_type": "code",
   "execution_count": 21,
   "metadata": {},
   "outputs": [
    {
     "name": "stdout",
     "output_type": "stream",
     "text": [
      "Average Score: 0.9091143210728964\n",
      "Sentiment: Positive\n"
     ]
    }
   ],
   "source": [
    "print(\"Average Score:\",avg)\n",
    "print(\"Sentiment:\",\"Positive\" if avg>0.5 else \"Negative\")"
   ]
  }
 ],
 "metadata": {
  "kernelspec": {
   "display_name": "base",
   "language": "python",
   "name": "python3"
  },
  "language_info": {
   "codemirror_mode": {
    "name": "ipython",
    "version": 3
   },
   "file_extension": ".py",
   "mimetype": "text/x-python",
   "name": "python",
   "nbconvert_exporter": "python",
   "pygments_lexer": "ipython3",
   "version": "0.0.0"
  }
 },
 "nbformat": 4,
 "nbformat_minor": 2
}
